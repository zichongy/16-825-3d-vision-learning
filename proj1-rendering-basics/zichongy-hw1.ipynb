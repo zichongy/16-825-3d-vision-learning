{
 "cells": [
  {
   "attachments": {},
   "cell_type": "markdown",
   "metadata": {},
   "source": [
    "# 16-825: Learning for 3D Vision Assignment 1\n",
    "\n",
    "Zichong Yang"
   ]
  },
  {
   "attachments": {},
   "cell_type": "markdown",
   "metadata": {},
   "source": [
    "## 1 Practicing with Cameras"
   ]
  },
  {
   "cell_type": "code",
   "execution_count": 1,
   "metadata": {},
   "outputs": [
    {
     "name": "stdout",
     "output_type": "stream",
     "text": [
      "Using GPU: True\n"
     ]
    }
   ],
   "source": [
    "import cv2\n",
    "import imageio\n",
    "import matplotlib.pyplot as plt\n",
    "import numpy as np\n",
    "import torch\n",
    "import mcubes\n",
    "import pytorch3d\n",
    "import pytorch3d.io\n",
    "from pytorch3d.vis.plotly_vis import plot_scene\n",
    "from tqdm.auto import tqdm\n",
    "\n",
    "import starter.utils\n",
    "from pytorch3d.io import load_obj\n",
    "\n",
    "# Test if using GPU\n",
    "print(\"Using GPU:\", torch.cuda.is_available())\n",
    "if torch.cuda.is_available():\n",
    "    device = torch.device(\"cuda:0\")\n",
    "else:\n",
    "    device = torch.device(\"cpu\")\n",
    "\n",
    "# image size for rendering\n",
    "image_size = 512"
   ]
  },
  {
   "cell_type": "code",
   "execution_count": 2,
   "metadata": {},
   "outputs": [
    {
     "name": "stderr",
     "output_type": "stream",
     "text": [
      "/tmp/ipykernel_526916/1354331292.py:13: UserWarning: Creating a tensor from a list of numpy.ndarrays is extremely slow. Please consider converting the list to a single numpy.ndarray with numpy.array() before converting to a tensor. (Triggered internally at /opt/conda/conda-bld/pytorch_1666643016022/work/torch/csrc/utils/tensor_new.cpp:230.)\n",
      "  maps=torch.tensor([cow_texture_map]),\n"
     ]
    }
   ],
   "source": [
    "# Load the cow mesh\n",
    "# Reference (provided Tutorial): https://colab.research.google.com/drive/1FLVJSRxT0-d2MNQg4Q7o5UQEWaSQ9u3h?usp=sharing\n",
    "cow_vertices, cow_face_props, cow_text_props = load_obj(\"data/cow.obj\")\n",
    "cow_faces = cow_face_props.verts_idx\n",
    "cow_vertices = cow_vertices.unsqueeze(0)\n",
    "cow_faces = cow_faces.unsqueeze(0)\n",
    "cow_verts_uvs = cow_text_props.verts_uvs\n",
    "cow_faces_uvs = cow_face_props.textures_idx\n",
    "\n",
    "# Load the cow texture\n",
    "cow_texture_map = plt.imread(\"data/cow_texture.png\")\n",
    "cow_textures_uv = pytorch3d.renderer.TexturesUV(\n",
    "    maps=torch.tensor([cow_texture_map]),\n",
    "    faces_uvs=cow_faces_uvs.unsqueeze(0),\n",
    "    verts_uvs=cow_verts_uvs.unsqueeze(0),\n",
    ").to(device)\n",
    "\n",
    "# Once provided the vetices, faces and texures, we can create a mesh \n",
    "meshes = pytorch3d.structures.Meshes(\n",
    "    verts=cow_vertices,\n",
    "    faces=cow_faces,\n",
    "    textures=cow_textures_uv,\n",
    ")\n",
    "meshes = meshes.to(device)  # Move mesh to GPU\n",
    "\n",
    "# use the renderer wrapper to set up a renderer\n",
    "renderer = starter.utils.get_mesh_renderer(image_size=image_size, device=device)"
   ]
  },
  {
   "attachments": {},
   "cell_type": "markdown",
   "metadata": {},
   "source": [
    "### 1.1 360-degree Renders"
   ]
  },
  {
   "cell_type": "code",
   "execution_count": 3,
   "metadata": {},
   "outputs": [],
   "source": [
    "# set 120 cameras to render images \n",
    "num_views = 120\n",
    "\n",
    "R, T = pytorch3d.renderer.look_at_view_transform(\n",
    "    dist=3,\n",
    "    elev=0,\n",
    "    azim=np.linspace(-180, 180, num_views, endpoint=False),\n",
    ")\n",
    "\n",
    "many_cameras = pytorch3d.renderer.FoVPerspectiveCameras(\n",
    "    R=R,\n",
    "    T=T,\n",
    "    device=device\n",
    ")\n",
    "\n",
    "images = renderer(meshes.extend(num_views), cameras=many_cameras)\n",
    "images = (images.cpu().numpy() * 255).astype(np.uint8)\n",
    "imageio.mimsave('output/q1-1.gif', images, fps=30)"
   ]
  },
  {
   "attachments": {},
   "cell_type": "markdown",
   "metadata": {},
   "source": [
    "### 1.2 Re-creating the Dolly Zoom (10 points)\n",
    "\n",
    "Codes for this part are modified in `starter/dolly_zoom.py`"
   ]
  },
  {
   "cell_type": "code",
   "execution_count": 16,
   "metadata": {},
   "outputs": [
    {
     "name": "stdout",
     "output_type": "stream",
     "text": [
      "100%|█████████████████████████████████████████| 120/120 [00:01<00:00, 70.23it/s]\n"
     ]
    }
   ],
   "source": [
    "!python -m starter.dolly_zoom"
   ]
  },
  {
   "attachments": {},
   "cell_type": "markdown",
   "metadata": {},
   "source": [
    "## 2 Practicing with Meshes\n",
    "\n",
    "### 2.1 Constructing a Tetrahedron"
   ]
  },
  {
   "cell_type": "code",
   "execution_count": 55,
   "metadata": {},
   "outputs": [],
   "source": [
    "# Define vertices and faces manually\n",
    "tetrahedron_vertices = torch.tensor([[1, -0.5, 0], [0, 1, 0], [0, -0.5, 1], [-0.5, -0.5, -0.5]], dtype=torch.float32).unsqueeze(0)\n",
    "tetrahedron_faces = torch.tensor([[0, 1, 2], [0, 1, 3], [0, 2, 3], [1, 2, 3]]).unsqueeze(0)\n",
    "# Use the TexturesVertex to assign color for each vertex. The size of vertices= the size of color\n",
    "tetrahedron_textures_rgb = torch.ones_like(tetrahedron_vertices)\n",
    "tetrahedron_textures_rgb = tetrahedron_textures_rgb * torch.tensor([0.7, 0.7, 1.0])\n",
    "\n",
    "# Once provided the vetices, faces and texures, we can create a mesh\n",
    "meshes = pytorch3d.structures.Meshes(\n",
    "    verts=tetrahedron_vertices,\n",
    "    faces=tetrahedron_faces,\n",
    "    textures=pytorch3d.renderer.TexturesVertex(verts_features=tetrahedron_textures_rgb)\n",
    ").to(device)\n",
    "\n",
    "# set 120 cameras to render images \n",
    "num_views = 120\n",
    "\n",
    "R, T = pytorch3d.renderer.look_at_view_transform(\n",
    "    dist=3,\n",
    "    elev=0,\n",
    "    azim=np.linspace(-180, 180, num_views, endpoint=False),\n",
    ")\n",
    "\n",
    "many_cameras = pytorch3d.renderer.FoVPerspectiveCameras(\n",
    "    R=R,\n",
    "    T=T,\n",
    "    device=device\n",
    ")\n",
    "\n",
    "lights = pytorch3d.renderer.PointLights(\n",
    "    device=device,\n",
    "    location=[[2.0, 2.0, 2.0]]\n",
    ")\n",
    "\n",
    "images = renderer(meshes.extend(num_views), cameras=many_cameras, lights=lights)\n",
    "images = (images.cpu().numpy() * 255).astype(np.uint8)\n",
    "imageio.mimsave('output/q2-1.gif', images, fps=30)"
   ]
  },
  {
   "attachments": {},
   "cell_type": "markdown",
   "metadata": {},
   "source": [
    "### 2.2 Constructing a Cube"
   ]
  },
  {
   "cell_type": "code",
   "execution_count": 61,
   "metadata": {},
   "outputs": [],
   "source": [
    "# Define vertices and faces manually\n",
    "cube_vertices = torch.tensor([\n",
    "    [-1., -1., -1.],\n",
    "    [-1., -1., 1.],\n",
    "    [-1., 1., -1.],\n",
    "    [-1., 1., 1.],\n",
    "    [1., -1., -1.],\n",
    "    [1., -1., 1.],\n",
    "    [1., 1., -1.],\n",
    "    [1., 1., 1.],\n",
    "], dtype=torch.float32).unsqueeze(0)\n",
    "cube_faces = torch.tensor([\n",
    "    [0, 1, 2],\n",
    "    [1, 2, 3],\n",
    "    [0, 1, 4],\n",
    "    [1, 4, 5],\n",
    "    [0, 2, 4],\n",
    "    [2, 4, 6],\n",
    "    [2, 3, 6],\n",
    "    [2, 3, 7],\n",
    "    [1, 3, 5],\n",
    "    [3, 5, 7],\n",
    "    [4, 5, 6],\n",
    "    [5, 6, 7],\n",
    "]).unsqueeze(0)\n",
    "\n",
    "# Use the TexturesVertex to assign color for each vertex. The size of vertices= the size of color\n",
    "cube_textures_rgb = torch.ones_like(cube_vertices)\n",
    "cube_textures_rgb = cube_textures_rgb * torch.tensor([0.7, 0.7, 1.0])\n",
    "\n",
    "# Once provided the vetices, faces and texures, we can create a mesh\n",
    "meshes = pytorch3d.structures.Meshes(\n",
    "    verts=cube_vertices,\n",
    "    faces=cube_faces,\n",
    "    textures=pytorch3d.renderer.TexturesVertex(verts_features=cube_textures_rgb)\n",
    ").to(device)\n",
    "\n",
    "# set 120 cameras to render images \n",
    "num_views = 120\n",
    "\n",
    "R, T = pytorch3d.renderer.look_at_view_transform(\n",
    "    dist=6,\n",
    "    elev=4,\n",
    "    azim=np.linspace(-180, 180, num_views, endpoint=False),\n",
    ")\n",
    "\n",
    "many_cameras = pytorch3d.renderer.FoVPerspectiveCameras(\n",
    "    R=R,\n",
    "    T=T,\n",
    "    device=device\n",
    ")\n",
    "\n",
    "lights = pytorch3d.renderer.PointLights(\n",
    "    device=device,\n",
    "    location=[[2.0, 2.0, 2.0]]\n",
    ")\n",
    "\n",
    "images = renderer(meshes.extend(num_views), cameras=many_cameras, lights=lights)\n",
    "images = (images.cpu().numpy() * 255).astype(np.uint8)\n",
    "imageio.mimsave('output/q2-2.gif', images, fps=30)"
   ]
  },
  {
   "attachments": {},
   "cell_type": "markdown",
   "metadata": {},
   "source": [
    "## 3 Re-texturing a mesh"
   ]
  },
  {
   "cell_type": "code",
   "execution_count": 8,
   "metadata": {},
   "outputs": [],
   "source": [
    "# assign the front of the cow a color of color1\n",
    "color1 = torch.tensor([0, 0, 1])\n",
    "# assign the back of the cow a color of color2\n",
    "color2 = torch.tensor([1, 0, 0])\n",
    "\n",
    "z = cow_vertices[:, :, 2:]\n",
    "# The front of the cow corresponds to the vertex with the smallest z-coordinate z_min\n",
    "z_min = z.min()\n",
    "# The back of the cow corresponds to the vertex with the largest z-coordinate z_max\n",
    "z_max = z.max()\n",
    "\n",
    "# The color of each vertex is a linear interpolation between color1 and color2\n",
    "alpha = (z - z_min) / (z_max - z_min)\n",
    "color = alpha * color2 + (1 - alpha) * color1\n",
    "cow_textures = pytorch3d.renderer.TexturesVertex(verts_features=color)\n",
    "\n",
    "# Once provided the vetices, faces and texures, we can create a mesh \n",
    "meshes = pytorch3d.structures.Meshes(\n",
    "    verts=cow_vertices,\n",
    "    faces=cow_faces,\n",
    "    textures=cow_textures,\n",
    ").to(device)  # Move mesh to GPU\n",
    "\n",
    "# set 120 cameras to render images \n",
    "num_views = 120\n",
    "\n",
    "R, T = pytorch3d.renderer.look_at_view_transform(\n",
    "    dist=3,\n",
    "    elev=4,\n",
    "    azim=np.linspace(-180, 180, num_views, endpoint=False),\n",
    ")\n",
    "\n",
    "many_cameras = pytorch3d.renderer.FoVPerspectiveCameras(\n",
    "    R=R,\n",
    "    T=T,\n",
    "    device=device\n",
    ")\n",
    "\n",
    "lights = pytorch3d.renderer.PointLights(\n",
    "    device=device,\n",
    "    location=[[2.0, 2.0, 2.0]]\n",
    ")\n",
    "\n",
    "images = renderer(meshes.extend(num_views), cameras=many_cameras, lights=lights)\n",
    "images = (images.cpu().numpy() * 255).astype(np.uint8)\n",
    "imageio.mimsave('output/q3.gif', images, fps=30)"
   ]
  },
  {
   "attachments": {},
   "cell_type": "markdown",
   "metadata": {},
   "source": [
    "## 4 Camera Transformations"
   ]
  },
  {
   "cell_type": "code",
   "execution_count": null,
   "metadata": {},
   "outputs": [],
   "source": [
    "from starter.camera_transforms import render_cow\n",
    "# Setting in the demo\n",
    "R_relative = [\n",
    "    [1, 0, 0],\n",
    "    [0, 1, 0],\n",
    "    [0, 0, 1]\n",
    "]\n",
    "T_relative = [0, 0, 0]\n",
    "\n",
    "out = render_cow(\n",
    "    R_relative=R_relative,\n",
    "    T_relative=T_relative,\n",
    "    device=device\n",
    ")\n",
    "plt.axis('off')\n",
    "plt.imshow(out)"
   ]
  },
  {
   "cell_type": "code",
   "execution_count": 14,
   "metadata": {},
   "outputs": [
    {
     "data": {
      "image/png": "[encoded data removed]",
      "text/plain": [
       "<Figure size 640x480 with 1 Axes>"
      ]
     },
     "metadata": {},
     "output_type": "display_data"
    }
   ],
   "source": [
    "from starter.camera_transforms import render_cow\n",
    "# Transform 1\n",
    "R_relative = [\n",
    "    [0, -1, 0],\n",
    "    [1, 0, 0],\n",
    "    [0, 0, 1]\n",
    "]\n",
    "T_relative = [0, 0, 0]\n",
    "\n",
    "out = render_cow(\n",
    "    R_relative=R_relative,\n",
    "    T_relative=T_relative,\n",
    "    device=device\n",
    ")\n",
    "plt.axis('off')\n",
    "plt.imshow(out)\n",
    "plt.imsave('output/q4-1.png', out)"
   ]
  },
  {
   "cell_type": "code",
   "execution_count": 17,
   "metadata": {},
   "outputs": [
    {
     "data": {
      "image/png": "[encoded data removed]",
      "text/plain": [
       "<Figure size 640x480 with 1 Axes>"
      ]
     },
     "metadata": {},
     "output_type": "display_data"
    }
   ],
   "source": [
    "from starter.camera_transforms import render_cow\n",
    "# Transform 2\n",
    "R_relative = [\n",
    "    [0, 0, -1],\n",
    "    [0, 1, 0],\n",
    "    [1, 0, 0]\n",
    "]\n",
    "T_relative = [3, 0, 3]\n",
    "\n",
    "out = render_cow(\n",
    "    R_relative=R_relative,\n",
    "    T_relative=T_relative,\n",
    "    device=device\n",
    ")\n",
    "plt.axis('off')\n",
    "plt.imshow(out)\n",
    "plt.imsave('output/q4-2.png', out)"
   ]
  },
  {
   "cell_type": "code",
   "execution_count": 19,
   "metadata": {},
   "outputs": [
    {
     "data": {
      "image/png": "[encoded data removed]",
      "text/plain": [
       "<Figure size 640x480 with 1 Axes>"
      ]
     },
     "metadata": {},
     "output_type": "display_data"
    }
   ],
   "source": [
    "from starter.camera_transforms import render_cow\n",
    "# Transform 3\n",
    "R_relative = [\n",
    "    [1, 0, 0],\n",
    "    [0, 1, 0],\n",
    "    [0, 0, 1]\n",
    "]\n",
    "T_relative = [0, 0, 2]\n",
    "\n",
    "out = render_cow(\n",
    "    R_relative=R_relative,\n",
    "    T_relative=T_relative,\n",
    "    device=device\n",
    ")\n",
    "plt.axis('off')\n",
    "plt.imshow(out)\n",
    "plt.imsave('output/q4-3.png', out)"
   ]
  },
  {
   "cell_type": "code",
   "execution_count": 20,
   "metadata": {},
   "outputs": [
    {
     "data": {
      "image/png": "[encoded data removed]",
      "text/plain": [
       "<Figure size 640x480 with 1 Axes>"
      ]
     },
     "metadata": {},
     "output_type": "display_data"
    }
   ],
   "source": [
    "from starter.camera_transforms import render_cow\n",
    "# Transform 4\n",
    "R_relative = [\n",
    "    [1, 0, 0],\n",
    "    [0, 1, 0],\n",
    "    [0, 0, 1]\n",
    "]\n",
    "T_relative = [0.5, -0.5, 0]\n",
    "\n",
    "out = render_cow(\n",
    "    R_relative=R_relative,\n",
    "    T_relative=T_relative,\n",
    "    device=device\n",
    ")\n",
    "plt.axis('off')\n",
    "plt.imshow(out)\n",
    "plt.imsave('output/q4-4.png', out)"
   ]
  },
  {
   "attachments": {},
   "cell_type": "markdown",
   "metadata": {},
   "source": [
    "## 5 Rendering Generic 3D Representations\n",
    "\n",
    "### 5.1 Rendering Point Clouds from RGB-D Images"
   ]
  },
  {
   "cell_type": "code",
   "execution_count": 7,
   "metadata": {},
   "outputs": [],
   "source": [
    "from starter.render_generic import *\n",
    "from starter.utils import *\n",
    "\n",
    "# load the data for 2 images of the same plant\n",
    "rgbd_data = load_rgbd_data()\n",
    "\n",
    "rgb1 = rgbd_data['rgb1']\n",
    "rgb2 = rgbd_data['rgb2']\n",
    "rgb1 = torch.Tensor(rgb1)\n",
    "rgb2 = torch.Tensor(rgb2)\n",
    "mask1 = rgbd_data['mask1']\n",
    "mask2 = rgbd_data['mask2']\n",
    "mask1 = torch.Tensor(mask1)\n",
    "mask2 = torch.Tensor(mask2)\n",
    "depth1 = rgbd_data['depth1']\n",
    "depth2 = rgbd_data['depth2']\n",
    "depth1 = torch.Tensor(depth1)\n",
    "depth2 = torch.Tensor(depth2)\n",
    "cameras1 = rgbd_data['cameras1']\n",
    "cameras2 = rgbd_data['cameras2']\n",
    "\n",
    "# set up the point cloud renderer\n",
    "pc_renderer = get_points_renderer(image_size=256, radius=0.01)"
   ]
  },
  {
   "cell_type": "code",
   "execution_count": null,
   "metadata": {},
   "outputs": [],
   "source": [
    "# convert a depth image into a point cloud\n",
    "# (parameterized as a set of 3D coordinates and corresponding color values)\n",
    "points1, rgba1 = unproject_depth_image(rgb1, mask1, depth1, cameras1)\n",
    "pointclouds1 = pytorch3d.structures.Pointclouds(\n",
    "    points=points1.unsqueeze(0),\n",
    "    features=rgba1[:, :3].unsqueeze(0)\n",
    ").to(device)\n",
    "\n",
    "points2, rgba2 = unproject_depth_image(rgb2, mask2, depth2, cameras2)\n",
    "pointclouds2 = pytorch3d.structures.Pointclouds(\n",
    "    points=points2.unsqueeze(0),\n",
    "    features=rgba2[:, :3].unsqueeze(0)\n",
    ").to(device)\n",
    "\n",
    "points_combined = torch.cat([points1, points2], dim=0)\n",
    "rgba_combined = torch.cat([rgba1, rgba2], dim=0)\n",
    "pointclouds_combined = pytorch3d.structures.Pointclouds(\n",
    "    points=points_combined.unsqueeze(0),\n",
    "    features=rgba_combined[:, :3].unsqueeze(0)\n",
    ").to(device)\n",
    "\n",
    "# set 120 cameras to render images \n",
    "num_views = 120\n",
    "\n",
    "R, T = pytorch3d.renderer.look_at_view_transform(\n",
    "    dist=6,\n",
    "    elev=0,\n",
    "    azim=np.linspace(-180, 180, num_views, endpoint=False),\n",
    ")\n",
    "\n",
    "# The original point cloud is upside down, so we need to flip it\n",
    "R_relative = torch.tensor([[-1., 0., 0.], [0., -1., 0.], [0., 0., 1.]])\n",
    "R = torch.stack([R_relative @ r for r in R])\n",
    "T = torch.stack([R_relative @ t for t in T])\n",
    "\n",
    "many_cameras = pytorch3d.renderer.FoVPerspectiveCameras(\n",
    "    R=R,\n",
    "    T=T,\n",
    "    device=device\n",
    ")\n",
    "\n",
    "images = pc_renderer(pointclouds1.extend(num_views), cameras=many_cameras)\n",
    "images = (images.cpu().numpy() * 255).astype(np.uint8)\n",
    "imageio.mimsave('output/q5-1-1.gif', images, fps=30)\n",
    "\n",
    "images = pc_renderer(pointclouds2.extend(num_views), cameras=many_cameras)\n",
    "images = (images.cpu().numpy() * 255).astype(np.uint8)\n",
    "imageio.mimsave('output/q5-1-2.gif', images, fps=30)\n",
    "\n",
    "images = pc_renderer(pointclouds_combined.extend(num_views), cameras=many_cameras)\n",
    "images = (images.cpu().numpy() * 255).astype(np.uint8)\n",
    "imageio.mimsave('output/q5-1-3.gif', images, fps=30)"
   ]
  },
  {
   "attachments": {},
   "cell_type": "markdown",
   "metadata": {},
   "source": [
    "### 5.2 Parametric Functions"
   ]
  },
  {
   "cell_type": "code",
   "execution_count": 6,
   "metadata": {},
   "outputs": [],
   "source": [
    "# Referred from the tutorial\n",
    "num_samples = 500\n",
    "r1 = 0.5\n",
    "r2 = 1.0\n",
    "\n",
    "phi = torch.linspace(0, 2 * np.pi, num_samples)\n",
    "theta = torch.linspace(0, 2 * np.pi, num_samples)\n",
    "Phi, Theta = torch.meshgrid(phi, theta, indexing=\"ij\")\n",
    "\n",
    "x = (r2 + r1 * torch.cos(Theta)) * torch.cos(Phi)\n",
    "y = (r2 + r1 * torch.cos(Theta)) * torch.sin(Phi)\n",
    "z = r1 * torch.sin(Theta)\n",
    "\n",
    "points = torch.stack((x.flatten(), y.flatten(), z.flatten()), dim=1)\n",
    "color = (points - points.min()) / (points.max() - points.min())\n",
    "\n",
    "sphere_point_cloud = pytorch3d.structures.Pointclouds(\n",
    "    points=[points], features=[color],\n",
    ").to(device)\n",
    "\n",
    "pc_renderer = starter.utils.get_points_renderer(radius=0.01)\n",
    "\n",
    "# set 120 cameras to render images \n",
    "num_views = 120\n",
    "\n",
    "R, T = pytorch3d.renderer.look_at_view_transform(\n",
    "    dist=6,\n",
    "    elev=0,\n",
    "    azim=np.linspace(-180, 180, num_views, endpoint=False),\n",
    ")\n",
    "\n",
    "many_cameras = pytorch3d.renderer.FoVPerspectiveCameras(\n",
    "    R=R,\n",
    "    T=T,\n",
    "    device=device\n",
    ")\n",
    "\n",
    "images = pc_renderer(sphere_point_cloud.extend(num_views), cameras=many_cameras)\n",
    "images = (images.cpu().numpy() * 255).astype(np.uint8)\n",
    "imageio.mimsave('output/q5-2.gif', images, fps=30)"
   ]
  },
  {
   "attachments": {},
   "cell_type": "markdown",
   "metadata": {},
   "source": [
    "### 5.3 Implicit Surfaces"
   ]
  },
  {
   "cell_type": "code",
   "execution_count": 13,
   "metadata": {},
   "outputs": [],
   "source": [
    "voxel_size=64\n",
    "r1 = 0.5\n",
    "r2 = 1.0\n",
    "min_value = -1.6\n",
    "max_value = 1.6\n",
    "\n",
    "X, Y, Z = torch.meshgrid([torch.linspace(min_value, max_value, voxel_size)] * 3)\n",
    "voxels = (torch.sqrt(X ** 2 + Y ** 2) - r2) **2 + Z ** 2 - r1 ** 2\n",
    "\n",
    "vertices, faces = mcubes.marching_cubes(mcubes.smooth(voxels), isovalue=0)\n",
    "vertices = torch.tensor(vertices).float()\n",
    "faces = torch.tensor(faces.astype(int))\n",
    "# Vertex coordinates are indexed by array position, so we need to renormalize the coordinate system.\n",
    "vertices = (vertices / voxel_size) * (max_value - min_value) + min_value\n",
    "textures = (vertices - vertices.min()) / (vertices.max() - vertices.min())\n",
    "textures = pytorch3d.renderer.TexturesVertex(textures.unsqueeze(0))\n",
    "\n",
    "mesh = pytorch3d.structures.Meshes([vertices], [faces], textures=textures).to(\n",
    "    device\n",
    ")\n",
    "\n",
    "num_views = 120\n",
    "R, T = pytorch3d.renderer.look_at_view_transform(\n",
    "    dist=6,\n",
    "    elev=0,\n",
    "    azim=np.linspace(-180, 180, num_views, endpoint=False),\n",
    ")\n",
    "many_cameras = pytorch3d.renderer.FoVPerspectiveCameras(\n",
    "    R=R,\n",
    "    T=T,\n",
    "    device=device\n",
    ")\n",
    "\n",
    "# use the renderer wrapper to set up a renderer\n",
    "renderer = starter.utils.get_mesh_renderer(image_size=image_size, device=device)\n",
    "\n",
    "images = renderer(mesh.extend(num_views), cameras=many_cameras)\n",
    "images = (images.cpu().numpy() * 255).astype(np.uint8)\n",
    "imageio.mimsave('output/q5-3.gif', images, fps=30)"
   ]
  },
  {
   "attachments": {},
   "cell_type": "markdown",
   "metadata": {},
   "source": [
    "## 6 Do Something Fun"
   ]
  },
  {
   "cell_type": "code",
   "execution_count": 11,
   "metadata": {},
   "outputs": [],
   "source": [
    "num_views = 120\n",
    "\n",
    "renderer = starter.utils.get_mesh_renderer(image_size=image_size, device=device)\n",
    "\n",
    "R, T = pytorch3d.renderer.look_at_view_transform(\n",
    "    dist=3,\n",
    "    elev=0,\n",
    "    azim=np.linspace(-180, 180, num_views, endpoint=False),\n",
    ")\n",
    "\n",
    "many_cameras = pytorch3d.renderer.FoVPerspectiveCameras(\n",
    "    R=R,\n",
    "    T=T,\n",
    "    device=device\n",
    ")\n",
    "\n",
    "images = [] \n",
    "\n",
    "for i in range(num_views):\n",
    "    # Define vertices and faces manually\n",
    "    tetrahedron_vertices = torch.tensor([[1, -0.5, 0], [0, 1+3*i/num_views, 0], [0, -0.5, 1], [-0.5, -0.5, -0.5]], dtype=torch.float32).unsqueeze(0)\n",
    "    tetrahedron_faces = torch.tensor([[0, 1, 2], [0, 1, 3], [0, 2, 3], [1, 2, 3]]).unsqueeze(0)\n",
    "    # Use the TexturesVertex to assign color for each vertex. The size of vertices= the size of color\n",
    "    # tetrahedron_textures_rgb = torch.ones_like(tetrahedron_vertices)\n",
    "    # tetrahedron_textures_rgb = tetrahedron_textures_rgb * torch.tensor([0.7, 0.7, 1.0])\n",
    "    textures = (tetrahedron_vertices - tetrahedron_vertices.min()) / (tetrahedron_vertices.max() - tetrahedron_vertices.min())\n",
    "    textures = pytorch3d.renderer.TexturesVertex(textures)\n",
    "\n",
    "    # Once provided the vetices, faces and texures, we can create a mesh\n",
    "    meshes = pytorch3d.structures.Meshes(\n",
    "        verts=tetrahedron_vertices,\n",
    "        faces=tetrahedron_faces,\n",
    "        textures=textures\n",
    "    ).to(device)\n",
    "\n",
    "    image = renderer(meshes, cameras=many_cameras[i])\n",
    "    image = (image.cpu().numpy() * 255).astype(np.uint8)[0,:,:,:3]\n",
    "    images.append(image)\n",
    "imageio.mimsave('output/q6.gif', np.array(images), fps=30)"
   ]
  },
  {
   "attachments": {},
   "cell_type": "markdown",
   "metadata": {},
   "source": [
    "## 7 Sampling Points on Meshes"
   ]
  },
  {
   "cell_type": "code",
   "execution_count": 1,
   "metadata": {},
   "outputs": [],
   "source": [
    "num_samples_list = [100, 500, 1000, 10000]\n",
    "\n",
    "def get_face_area(vertices, face):\n",
    "    \"\"\"\n",
    "    Args:\n",
    "        vertices: (V, 3) tensor of vertex positions\n",
    "        faces: (3) tensor of face indices\n",
    "    Returns:\n",
    "        area: tensor of face area\n",
    "    \"\"\"\n",
    "    v1, v2, v3 = vertices[face]\n",
    "    a = torch.norm(v2 - v1)\n",
    "    b = torch.norm(v3 - v2)\n",
    "    c = torch.norm(v1 - v3)\n",
    "    s = (a + b + c) / 2\n",
    "    area = torch.sqrt(s * (s - a) * (s - b) * (s - c))\n",
    "    return area\n",
    "\n",
    "def get_face_areas(vertices, faces):\n",
    "    \"\"\"\n",
    "    Args:\n",
    "        vertices: (V, 3) tensor of vertex positions\n",
    "        faces: (F, 3) tensor of face indices\n",
    "    Returns:\n",
    "        areas: (F) tensor of face areas\n",
    "    \"\"\"\n",
    "    areas = torch.zeros(faces.shape[0]).to(device)\n",
    "    for i, face in enumerate(faces):\n",
    "        areas[i] = get_face_area(vertices, face)\n",
    "    return areas\n",
    "\n",
    "def mesh_to_pointcloud(vertices, faces, num_samples, device):\n",
    "    \"\"\"\n",
    "    Args:\n",
    "        vertices: (V, 3) tensor of vertex positions\n",
    "        faces: (F, 3) tensor of face indices\n",
    "        num_samples: number of points to sample\n",
    "    Returns:\n",
    "        points: (N, 3) tensor of sampled points\n",
    "    \"\"\"\n",
    "    points = torch.zeros(num_samples, 3).to(device)\n",
    "    areas = get_face_areas(vertices, faces)\n",
    "    areas = areas / areas.sum()\n",
    "    faces_idx_sampled = np.random.choice(faces.shape[0], num_samples, p=areas.cpu().numpy())\n",
    "    for i, idx in enumerate(faces_idx_sampled):\n",
    "        v1, v2, v3 = vertices[faces[idx]]\n",
    "        r1 = torch.rand(1)\n",
    "        r2 = torch.rand(1)\n",
    "        point = (1 - torch.sqrt(r1)) * v1 + (torch.sqrt(r1) * (1 - r2)) * v2 + (torch.sqrt(r1) * r2) * v3\n",
    "        points[i] = point\n",
    "    return points\n",
    "\n",
    "def render_pointcloud(vertices, faces, num_samples):\n",
    "    num_views = 120\n",
    "    R, T = pytorch3d.renderer.look_at_view_transform(\n",
    "        dist=6,\n",
    "        elev=0,\n",
    "        azim=np.linspace(-180, 180, num_views, endpoint=False),\n",
    "    )\n",
    "    many_cameras = pytorch3d.renderer.FoVPerspectiveCameras(\n",
    "        R=R,\n",
    "        T=T,\n",
    "        device=device\n",
    "    )\n",
    "    points = mesh_to_pointcloud(vertices, faces, num_samples, device)\n",
    "    color = (points - points.min()) / (points.max() - points.min())\n",
    "    point_cloud = pytorch3d.structures.Pointclouds(\n",
    "        points=[points], features=[color],\n",
    "    ).to(device)\n",
    "    pc_renderer = starter.utils.get_points_renderer(radius=0.01)\n",
    "    images = pc_renderer(point_cloud.extend(num_views), cameras=many_cameras)\n",
    "    images = (images.cpu().numpy() * 255).astype(np.uint8)\n",
    "\n",
    "    return images\n",
    "\n",
    "def render_mesh(vertices, faces):\n",
    "    num_views = 120\n",
    "    R, T = pytorch3d.renderer.look_at_view_transform(\n",
    "        dist=6,\n",
    "        elev=0,\n",
    "        azim=np.linspace(-180, 180, num_views, endpoint=False),\n",
    "    )\n",
    "    many_cameras = pytorch3d.renderer.FoVPerspectiveCameras(\n",
    "        R=R,\n",
    "        T=T,\n",
    "        device=device\n",
    "    )\n",
    "    textures = (vertices - vertices.min()) / (vertices.max() - vertices.min())\n",
    "    textures = pytorch3d.renderer.TexturesVertex(textures.unsqueeze(0))\n",
    "    mesh = pytorch3d.structures.Meshes([vertices], [faces], textures=textures).to(device)\n",
    "    renderer = starter.utils.get_mesh_renderer(image_size=image_size, device=device)\n",
    "    images = renderer(mesh.extend(num_views), cameras=many_cameras)\n",
    "    images = (images.cpu().numpy() * 255).astype(np.uint8)\n",
    "    return images[:, :, :, :3]"
   ]
  },
  {
   "cell_type": "code",
   "execution_count": null,
   "metadata": {},
   "outputs": [],
   "source": [
    "cow_vertices, cow_face_props, cow_text_props = pytorch3d.io.load_obj(\"data/cow.obj\")\n",
    "cow_faces = cow_face_props.verts_idx\n",
    "\n",
    "cow_output = []\n",
    "cow_output.append(render_mesh(cow_vertices, cow_faces))\n",
    "for num_samples in num_samples_list:\n",
    "    cow_output.append(render_pointcloud(cow_vertices, cow_faces, num_samples))\n",
    "cow_output = np.concatenate(cow_output, axis=2)\n",
    "imageio.mimsave('output/q7-1.gif', cow_output, fps=30)"
   ]
  },
  {
   "cell_type": "code",
   "execution_count": null,
   "metadata": {},
   "outputs": [],
   "source": [
    "joint_mesh_vertices, joint_mesh_face_props, joint_mesh_text_props = pytorch3d.io.load_obj(\"data/joint_mesh.obj\")\n",
    "joint_mesh_faces = joint_mesh_face_props.verts_idx\n",
    "\n",
    "joint_mesh_output = []\n",
    "joint_mesh_output.append(render_mesh(joint_mesh_vertices, joint_mesh_faces))\n",
    "for num_samples in num_samples_list:\n",
    "    joint_mesh_output.append(render_pointcloud(joint_mesh_vertices, joint_mesh_faces, num_samples))\n",
    "joint_mesh_output = np.concatenate(joint_mesh_output, axis=2)\n",
    "imageio.mimsave('output/q7-2.gif', joint_mesh_output, fps=30)"
   ]
  }
 ],
 "metadata": {
  "kernelspec": {
   "display_name": "3dv",
   "language": "python",
   "name": "python3"
  },
  "language_info": {
   "codemirror_mode": {
    "name": "ipython",
    "version": 3
   },
   "file_extension": ".py",
   "mimetype": "text/x-python",
   "name": "python",
   "nbconvert_exporter": "python",
   "pygments_lexer": "ipython3",
   "version": "3.9.16"
  },
  "orig_nbformat": 4,
  "vscode": {
   "interpreter": {
    "hash": "06b34d9cf91587bd9952d60ebfff1455bffd90fdf8c5fe9fa7d6c114053b18ea"
   }
  }
 },
 "nbformat": 4,
 "nbformat_minor": 2
}
